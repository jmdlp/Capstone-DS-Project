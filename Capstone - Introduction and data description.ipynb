{
 "cells": [
  {
   "cell_type": "markdown",
   "metadata": {},
   "source": [
    "# CAPSTONE PROJECT DESCRIPTION"
   ]
  },
  {
   "cell_type": "markdown",
   "metadata": {},
   "source": [
    "The aim of this project is to make an analisys of the venues of the city of Seville, Spain. The analisys will be made based on the ratings of the venues and their price.\n",
    "\n",
    "\n",
    "Seville is a very famous and beautiful city of Spain which attracts a lot of tourism. It is such an historical city where a lot of cultures were mixed and used to live together in peace and harmony. It has lots of magical places to get lost through their streets and their people are actually open-minded and friendly.\n",
    "\n",
    "\n",
    "However, it is quite complicated for tourists to find good places to have some food since it is not the city with the biggest technological expansion and development.\n",
    "\n",
    "\n",
    "With this analisys, tourist will be able to select the restaurant that fits them the best in order to have a great experience since Spain is one of the countries with the best gastronomy in the world!!"
   ]
  },
  {
   "cell_type": "markdown",
   "metadata": {},
   "source": [
    "# DATA DESCRIPTION"
   ]
  },
  {
   "cell_type": "markdown",
   "metadata": {},
   "source": [
    "The data that will be used in order to make this analisys is the data provided by the Foursquare API.\n",
    "It will be necessary to make a proper data mining and selection among this data.\n",
    "\n",
    "\n",
    "The venues used for this study will be the ones in a 3 km radius from the center of the city of Seville, in Spain. In this way, tourist that would be visiting the city center could choose the restaurant they like the most..\n",
    "\n",
    "\n",
    "The raw data provided by the API needs to be treated.The main features that we will be needing to develop this analisys are the following:\n",
    "\n",
    "- Name of the restaurants\n",
    "\n",
    "- Location and coordenates\n",
    "\n",
    "- Ratings\n",
    "\n",
    "- Categories of the restaurants (type of food they serve)"
   ]
  },
  {
   "cell_type": "markdown",
   "metadata": {},
   "source": [
    "#### THANKS FOR READING!!!"
   ]
  }
 ],
 "metadata": {
  "kernelspec": {
   "display_name": "Python 3",
   "language": "python",
   "name": "python3"
  },
  "language_info": {
   "codemirror_mode": {
    "name": "ipython",
    "version": 3
   },
   "file_extension": ".py",
   "mimetype": "text/x-python",
   "name": "python",
   "nbconvert_exporter": "python",
   "pygments_lexer": "ipython3",
   "version": "3.7.6"
  }
 },
 "nbformat": 4,
 "nbformat_minor": 4
}
