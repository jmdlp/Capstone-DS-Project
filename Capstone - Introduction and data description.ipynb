{
 "cells": [
  {
   "cell_type": "markdown",
   "metadata": {},
   "source": [
    "### CAPSTONE PROJECT DESCRIPTION"
   ]
  },
  {
   "cell_type": "markdown",
   "metadata": {},
   "source": [
    "The aim of this project is to make an analisys of the venues of the city of Seville, Spain. The analisys will be made based on the ratings of the venues and their price.\n",
    "\n",
    "Seville is a very famous and beautiful city of Spain which attracts a lot of tourism. With this analisys, tourist will be able to select the restaurant that fits them the best in order to have a great experience since Spain is one of the countries with the best gastronomy in the world!!\n",
    "\n",
    "For this task, I will be using the Foursquare API that we have been using along this course."
   ]
  },
  {
   "cell_type": "markdown",
   "metadata": {},
   "source": [
    "### DATA DESCRIPTION"
   ]
  },
  {
   "cell_type": "markdown",
   "metadata": {},
   "source": [
    "The data that will be used in order to make this analisys is the data provided by Foursquare.\n",
    "\n",
    "It will be necessary to make a proper data mining and selection among this data.\n",
    "\n",
    "The venues used for this study will be the ones in a 3 km radius from the center of the city of Seville, in Spain."
   ]
  }
 ],
 "metadata": {
  "kernelspec": {
   "display_name": "Python 3",
   "language": "python",
   "name": "python3"
  },
  "language_info": {
   "codemirror_mode": {
    "name": "ipython",
    "version": 3
   },
   "file_extension": ".py",
   "mimetype": "text/x-python",
   "name": "python",
   "nbconvert_exporter": "python",
   "pygments_lexer": "ipython3",
   "version": "3.7.6"
  }
 },
 "nbformat": 4,
 "nbformat_minor": 4
}
